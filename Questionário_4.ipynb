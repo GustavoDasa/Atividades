{
  "nbformat": 4,
  "nbformat_minor": 0,
  "metadata": {
    "colab": {
      "provenance": [],
      "collapsed_sections": [
        "8BJ7h-vSqfmN",
        "pPbjlaC9CCsr"
      ],
      "toc_visible": true,
      "mount_file_id": "133o1iH4JfCMOw_YF2Xm1xw4oQw2v8NI5",
      "authorship_tag": "ABX9TyMa7WlGhYfvWcWim4A+7f24",
      "include_colab_link": true
    },
    "kernelspec": {
      "name": "python3",
      "display_name": "Python 3"
    },
    "language_info": {
      "name": "python"
    }
  },
  "cells": [
    {
      "cell_type": "markdown",
      "metadata": {
        "id": "view-in-github",
        "colab_type": "text"
      },
      "source": [
        "<a href=\"https://colab.research.google.com/github/GustavoDasa/Atividades/blob/Modelos_de_Regressao/Question%C3%A1rio_4.ipynb\" target=\"_parent\"><img src=\"https://colab.research.google.com/assets/colab-badge.svg\" alt=\"Open In Colab\"/></a>"
      ]
    },
    {
      "cell_type": "markdown",
      "source": [
        "---\n",
        "# Apresentação\n",
        "---\n",
        "\n",
        "> Este Código foi desenvolvido em Python no Google Colaboratory e seu funcionamento está a ele relacionado.\n",
        "\n",
        "> **Para um melhor acompanhamento**, [visualize através do Colab]() utilizando os índices.\n",
        "\n",
        "\n",
        "\n",
        "@author: GustavoDasa"
      ],
      "metadata": {
        "id": "RWCf5bq4Ml-x"
      }
    },
    {
      "cell_type": "markdown",
      "source": [
        "---\n",
        "# Bibliotecas\n",
        "---"
      ],
      "metadata": {
        "id": "8BJ7h-vSqfmN"
      }
    },
    {
      "cell_type": "code",
      "source": [
        "import pandas as pd\n",
        "import random\n",
        "import numpy as np\n",
        "from matplotlib import pyplot as plt\n",
        "from bs4 import BeautifulSoup as bs\n",
        "from sklearn.neighbors import KNeighborsClassifier\n",
        "from sklearn.model_selection import GridSearchCV\n",
        "from sklearn.preprocessing import StandardScaler"
      ],
      "metadata": {
        "id": "0wCkh5b4qgVi"
      },
      "execution_count": null,
      "outputs": []
    },
    {
      "cell_type": "markdown",
      "source": [
        "---\n",
        "# Dados\n",
        "---"
      ],
      "metadata": {
        "id": "SO7E7Fp3jWEr"
      }
    },
    {
      "cell_type": "markdown",
      "source": [
        "---\n",
        "## Carregando os dados:\n",
        "---"
      ],
      "metadata": {
        "id": "H1rs0W0arixw"
      }
    },
    {
      "cell_type": "code",
      "source": [
        "random.seed(42)\n",
        "\n",
        "train = pd.read_csv('/content/drive/MyDrive/Colab Notebooks/Introdução à Ciência de Dados/Dados/titanic/train.csv', header=(0))\n",
        "test = pd.read_csv('/content/drive/MyDrive/Colab Notebooks/Introdução à Ciência de Dados/Dados/titanic/test.csv', header=(0))\n",
        "\n",
        "print(\"Número de linhas e colunas no conjunto de treinamento:\", train.shape)\n",
        "print(\"Número de linhas e colunas no conjunto de teste:\", test.shape)"
      ],
      "metadata": {
        "colab": {
          "base_uri": "https://localhost:8080/"
        },
        "id": "1gG9FkMKieUf",
        "outputId": "91eb5a74-6dda-4d3b-b273-54a54788cfeb"
      },
      "execution_count": null,
      "outputs": [
        {
          "output_type": "stream",
          "name": "stdout",
          "text": [
            "Número de linhas e colunas no conjunto de treinamento: (891, 12)\n",
            "Número de linhas e colunas no conjunto de teste: (418, 11)\n"
          ]
        }
      ]
    },
    {
      "cell_type": "markdown",
      "source": [
        "---\n",
        "## Limpeza dos dados:\n",
        "---"
      ],
      "metadata": {
        "id": "jPBjPgyXqvMS"
      }
    },
    {
      "cell_type": "code",
      "source": [
        "#   Retirando dados que não serão úteis\n",
        "train.drop(['PassengerId','Name', 'Ticket', 'Cabin'],axis = 1, inplace = True)\n",
        "\n",
        "PassengerId_test = test['PassengerId']\n",
        "test.drop(['PassengerId','Name', 'Ticket', 'Cabin'],axis = 1, inplace = True)\n",
        "\n",
        "\n",
        "#   Preenchendo os valos nulos\n",
        "train['Age'] = train['Age'].fillna(train['Age'].mean())\n",
        "train['Embarked'] = train['Embarked'].fillna(train['Embarked'].mode()[0])\n",
        "train['Fare'] = train['Fare'].fillna(train['Fare'].mean())\n",
        "\n",
        "test['Age'] = test['Age'].fillna(test['Age'].mean())\n",
        "test['Embarked'] = test['Embarked'].fillna(test['Embarked'].mode()[0])\n",
        "test['Fare'] = test['Fare'].fillna(test['Fare'].mean())\n",
        "\n",
        "\n",
        "#   Transformação de categórico para discreto\n",
        "train_original = train\n",
        "train = pd.get_dummies(train)\n",
        "test = pd.get_dummies(test)\n",
        "\n",
        "\n",
        "#   Conversão para numpy\n",
        "data_train = train.to_numpy()\n",
        "nrow,ncol = data_train.shape\n",
        "y_train = data_train[:,0]\n",
        "X_train = data_train[:,1:ncol]\n",
        "\n",
        "data_test = test.to_numpy()\n",
        "X_test = data_test\n",
        "\n",
        "\n",
        "#   Normalização\n",
        "scaler = StandardScaler().fit(X_train)\n",
        "X_train = scaler.transform(X_train)\n",
        "\n",
        "X_test = scaler.transform(X_test)"
      ],
      "metadata": {
        "id": "h-n9_xpu-mXg"
      },
      "execution_count": null,
      "outputs": []
    },
    {
      "cell_type": "markdown",
      "source": [
        "---\n",
        "# Seleção e ajuste do modelo\n",
        "---"
      ],
      "metadata": {
        "id": "W4wnxA_2qzyb"
      }
    },
    {
      "cell_type": "code",
      "source": [
        "knn = KNeighborsClassifier()\n",
        "k_range = list(range(1, 31))\n",
        "param_grid = [{'n_neighbors': np.arange(1, 51),\n",
        "               'metric': ['euclidean', 'minkowski','chebyshev']}]\n",
        "\n",
        "# defining parameter range\n",
        "model = GridSearchCV(estimator = knn, param_grid = param_grid, cv=10,\n",
        "                    scoring='roc_auc', return_train_score=False,verbose=1)\n",
        "\n",
        "# fitting the model for grid search\n",
        "model.fit(X_train, y_train)\n",
        "print(model.best_params_)\n",
        "model.score(X_train, y_train)"
      ],
      "metadata": {
        "colab": {
          "base_uri": "https://localhost:8080/"
        },
        "id": "d-x2g2nxNUrM",
        "outputId": "62f30cdb-de78-4180-8417-46e0e34615bd"
      },
      "execution_count": null,
      "outputs": [
        {
          "output_type": "stream",
          "name": "stdout",
          "text": [
            "Fitting 10 folds for each of 150 candidates, totalling 1500 fits\n",
            "{'metric': 'euclidean', 'n_neighbors': 15}\n"
          ]
        },
        {
          "output_type": "execute_result",
          "data": {
            "text/plain": [
              "0.8991600890507995"
            ]
          },
          "metadata": {},
          "execution_count": 5
        }
      ]
    },
    {
      "cell_type": "code",
      "source": [
        "y_pred=model.predict(X_test)\n",
        "y_pred = np.array(y_pred, dtype = int)\n",
        "prediction = pd.DataFrame()\n",
        "prediction['PassengerId'] = PassengerId_test\n",
        "prediction['Survived'] = y_pred\n",
        "\n",
        "prediction.to_csv('Titanic-knn.csv', index = False)"
      ],
      "metadata": {
        "id": "9akWhvk1mJkI"
      },
      "execution_count": null,
      "outputs": []
    },
    {
      "cell_type": "markdown",
      "source": [
        "---\n",
        "# Classificação\n",
        "---\n",
        "\n",
        "\\\n",
        "Enviando a solução para o Kaggle, obtemos: 0.76315"
      ],
      "metadata": {
        "id": "kt1Dvq9smc3V"
      }
    },
    {
      "cell_type": "markdown",
      "source": [
        "![image.png](data:image/png;base64,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)"
      ],
      "metadata": {
        "id": "ACZ5ez3snVTO"
      }
    }
  ]
}